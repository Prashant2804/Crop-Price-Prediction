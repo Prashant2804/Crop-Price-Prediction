{
  "nbformat": 4,
  "nbformat_minor": 0,
  "metadata": {
    "colab": {
      "private_outputs": true,
      "provenance": [],
      "gpuType": "T4",
      "cell_execution_strategy": "setup",
      "authorship_tag": "ABX9TyP0LDVWfpoHBLr27ADy4nSL",
      "include_colab_link": true
    },
    "kernelspec": {
      "name": "python3",
      "display_name": "Python 3"
    },
    "language_info": {
      "name": "python"
    },
    "accelerator": "GPU"
  },
  "cells": [
    {
      "cell_type": "markdown",
      "metadata": {
        "id": "view-in-github",
        "colab_type": "text"
      },
      "source": [
        "<a href=\"https://colab.research.google.com/github/Prashant2804/Crop-Price-Prediction/blob/main/Fire_detection.ipynb\" target=\"_parent\"><img src=\"https://colab.research.google.com/assets/colab-badge.svg\" alt=\"Open In Colab\"/></a>"
      ]
    },
    {
      "cell_type": "code",
      "execution_count": null,
      "metadata": {
        "id": "7Lk_isOwooOb"
      },
      "outputs": [],
      "source": [
        "!git clone https://github.com/MuhammadMoinFaisal/FireDetectionYOLOv8.git"
      ]
    },
    {
      "cell_type": "code",
      "source": [
        "!pwd\n"
      ],
      "metadata": {
        "id": "7nDh0Yz3qzkI"
      },
      "execution_count": null,
      "outputs": []
    },
    {
      "cell_type": "code",
      "source": [
        "%cd FireDetectionYOLOv8\n"
      ],
      "metadata": {
        "id": "_fYytPtpq-f4"
      },
      "execution_count": null,
      "outputs": []
    },
    {
      "cell_type": "code",
      "source": [
        "!pip install -e '.[dev]'\n"
      ],
      "metadata": {
        "id": "KYDCfdTZrB__"
      },
      "execution_count": null,
      "outputs": []
    },
    {
      "cell_type": "code",
      "source": [
        "%cd  /content/FireDetectionYOLOv8/ultralytics/yolo/v8/detect\n",
        "%ls  /content/FireDetectionYOLOv8"
      ],
      "metadata": {
        "id": "VOuDvQVFrSlX"
      },
      "execution_count": null,
      "outputs": []
    },
    {
      "cell_type": "code",
      "source": [
        "!pwd\n"
      ],
      "metadata": {
        "id": "GVV8vQn2oHuv"
      },
      "execution_count": null,
      "outputs": []
    },
    {
      "cell_type": "code",
      "source": [
        "!pip install roboflow\n",
        "\n",
        "from roboflow import Roboflow\n",
        "rf = Roboflow(api_key=\"yQlhgJRE0D2MjmbAwUwC\")\n",
        "project = rf.workspace(\"ak-rfpt5\").project(\"fire-and-smoke-detection-idbvj\")\n",
        "dataset = project.version(5).download(\"yolov8\")\n",
        "\n"
      ],
      "metadata": {
        "id": "_SJitCU_sXqn"
      },
      "execution_count": null,
      "outputs": []
    },
    {
      "cell_type": "code",
      "source": [
        "!pwd"
      ],
      "metadata": {
        "id": "Yeu1FZJXFfuG"
      },
      "execution_count": null,
      "outputs": []
    },
    {
      "cell_type": "code",
      "source": [
        "HOME = '/content/FireDetectionYOLOv8/ultralytics/yolo/v8/detect'"
      ],
      "metadata": {
        "id": "u0sUzgVbtNNn"
      },
      "execution_count": null,
      "outputs": []
    },
    {
      "cell_type": "code",
      "source": [
        "%cd {HOME}\n"
      ],
      "metadata": {
        "id": "6xo98-setarv"
      },
      "execution_count": null,
      "outputs": []
    },
    {
      "cell_type": "code",
      "source": [
        "!gdown \"https://drive.google.com/uc?id=1dCMIamv2XI7xx8ExWNXswDRBfvHhSKfH&confirm=t\""
      ],
      "metadata": {
        "id": "cLEQRJhItNGe"
      },
      "execution_count": null,
      "outputs": []
    },
    {
      "cell_type": "code",
      "source": [
        "%cd {dataset.location}"
      ],
      "metadata": {
        "id": "jK68KYSGBS3v"
      },
      "execution_count": null,
      "outputs": []
    },
    {
      "cell_type": "code",
      "source": [
        "%ls /content/FireDetectionYOLOv8/ultralytics/yolo/v8/detect"
      ],
      "metadata": {
        "id": "J_o88P9MBjen"
      },
      "execution_count": null,
      "outputs": []
    },
    {
      "cell_type": "code",
      "source": [
        "%ls /content/"
      ],
      "metadata": {
        "id": "Cx282QalCCVn"
      },
      "execution_count": null,
      "outputs": []
    },
    {
      "cell_type": "code",
      "source": [
        "!pip install PIL\n"
      ],
      "metadata": {
        "id": "gKKdAZmTCZ1P"
      },
      "execution_count": null,
      "outputs": []
    },
    {
      "cell_type": "code",
      "source": [
        "%cd {HOME}"
      ],
      "metadata": {
        "id": "Wl4-6TMzC1Uu"
      },
      "execution_count": null,
      "outputs": []
    },
    {
      "cell_type": "code",
      "source": [
        "%cd {sample_data.loaction}"
      ],
      "metadata": {
        "id": "50Wh8sW9C--3"
      },
      "execution_count": null,
      "outputs": []
    },
    {
      "cell_type": "code",
      "source": [
        "!pwd\n"
      ],
      "metadata": {
        "id": "43l-EbFlFbqs"
      },
      "execution_count": null,
      "outputs": []
    },
    {
      "cell_type": "code",
      "source": [],
      "metadata": {
        "id": "4mW4Nf8qWMyz"
      },
      "execution_count": null,
      "outputs": []
    },
    {
      "cell_type": "code",
      "source": [
        "%cd {HOME}\n",
        "model = YOLO('yolov8m.pt')\n",
        "model.train(data='/content/FireDetectionYOLOv8/ultralytics/yolo/v8/detect/fire-smoke-1/data.yaml', epochs=200)"
      ],
      "metadata": {
        "id": "Hg6ydCwgGKoW"
      },
      "execution_count": null,
      "outputs": []
    },
    {
      "cell_type": "code",
      "source": [
        "!python train.py --help\n"
      ],
      "metadata": {
        "id": "HYq-PlBHacGM"
      },
      "execution_count": null,
      "outputs": []
    },
    {
      "cell_type": "code",
      "source": [
        "%cd {HOME}\n",
        "!python train.py task=detect mode=train model=yolov8s.pt data.path=/content/fire-smoke-1/data.yaml epochs=120 imgsz=640\n"
      ],
      "metadata": {
        "id": "qkC8-NSNbRFb"
      },
      "execution_count": null,
      "outputs": []
    },
    {
      "cell_type": "code",
      "source": [
        "!pip install hydra"
      ],
      "metadata": {
        "id": "zM5BsVv6HvE-"
      },
      "execution_count": null,
      "outputs": []
    }
  ]
}